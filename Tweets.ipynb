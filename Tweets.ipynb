{
 "cells": [
  {
   "cell_type": "markdown",
   "metadata": {},
   "source": [
    "look at who the poster was, looking at age, gender, race\n",
    "use sentiment to get regression \n",
    "parse the description directly to get blurbs from producers to see if its going to be shit \n",
    "can you figure out the sex etc of people from how they are tweets "
   ]
  },
  {
   "cell_type": "code",
   "execution_count": 31,
   "metadata": {},
   "outputs": [],
   "source": [
    "import requests\n",
    "# For saving access tokens and for file management when creating and adding to the dataset\n",
    "import os\n",
    "# For dealing with json responses we receive from the API\n",
    "import json\n",
    "# For displaying the data after\n",
    "import pandas as pd\n",
    "# For saving the response data in CSV format\n",
    "import csv\n",
    "# For parsing the dates received from twitter in readable formats\n",
    "import datetime\n",
    "import dateutil.parser\n",
    "import unicodedata\n",
    "#To add wait time between requests\n",
    "import time\n",
    "import re\n",
    "\n"
   ]
  },
  {
   "cell_type": "code",
   "execution_count": 22,
   "metadata": {},
   "outputs": [],
   "source": [
    "import tweepy as tweepy"
   ]
  },
  {
   "cell_type": "code",
   "execution_count": 23,
   "metadata": {},
   "outputs": [],
   "source": [
    "CONSUMER_KEY = '8G29eTyvm1WeDJmDQ5wky5VqH'\n",
    "CONSUMER_SECRET = 'jqm2FrD3HeIuopJQrv4aDf2unA6UdDeFGYT7rLD9xIXwF2dh41'\n",
    "ACCESS_KEY = '1526965355670917120-EOXPkeug20Kx9YgOG0ZboVuHC4KUoT'\n",
    "ACCESS_SECRET = 'MVxUBLSo3aAxDGJ3a2qlZYSx5LF5izEEfTl04tti6loVJ'\n"
   ]
  },
  {
   "cell_type": "markdown",
   "metadata": {},
   "source": [
    "API Key\n",
    "8G29eTyvm1WeDJmDQ5wky5VqH\n",
    "API Key Secret\n",
    "jqm2FrD3HeIuopJQrv4aDf2unA6UdDeFGYT7rLD9xIXwF2dh41\n",
    "Bearer Token\n",
    "AAAAAAAAAAAAAAAAAAAAAF%2FzcgEAAAAAO3Hze%2FOCfUPtumAob9XCJ8SEUEE%3DNyEJOipXyXiYAD9IV3HTShpGvfdHo3yVx4XmMQFJSJBeNoEoiH\n",
    "Access Token\n",
    "1526965355670917120-EOXPkeug20Kx9YgOG0ZboVuHC4KUoT\n",
    "Access Token Secret\n",
    "MVxUBLSo3aAxDGJ3a2qlZYSx5LF5izEEfTl04tti6loVJ"
   ]
  },
  {
   "cell_type": "code",
   "execution_count": 24,
   "metadata": {},
   "outputs": [],
   "source": [
    "## Changing cell below to markdown while I wait on enhanced entitlement, going to work on NLP on the kaggle set it the interim"
   ]
  },
  {
   "cell_type": "code",
   "execution_count": 25,
   "metadata": {},
   "outputs": [
    {
     "name": "stdout",
     "output_type": "stream",
     "text": [
      "Successful Authentication\n"
     ]
    }
   ],
   "source": [
    "auth = tweepy.OAuthHandler(CONSUMER_KEY, CONSUMER_SECRET)\n",
    "auth.set_access_token(ACCESS_KEY, ACCESS_SECRET)\n",
    "api = tweepy.API(auth)\n",
    "\n",
    "# verify that the authentification has been carried out properly\n",
    "try:\n",
    "    api.verify_credentials()\n",
    "    print('Successful Authentication')\n",
    "except:\n",
    "    print('Failed authentication')"
   ]
  },
  {
   "cell_type": "code",
   "execution_count": 76,
   "metadata": {},
   "outputs": [
    {
     "name": "stderr",
     "output_type": "stream",
     "text": [
      "Unexpected parameter: screen_name\n",
      "Unexpected parameter: screen_name\n",
      "Unexpected parameter: screen_name\n",
      "Unexpected parameter: screen_name\n",
      "Unexpected parameter: screen_name\n",
      "Unexpected parameter: screen_name\n",
      "Unexpected parameter: screen_name\n",
      "Unexpected parameter: screen_name\n",
      "Unexpected parameter: screen_name\n",
      "Unexpected parameter: screen_name\n",
      "Unexpected parameter: screen_name\n",
      "Unexpected parameter: screen_name\n",
      "Unexpected parameter: screen_name\n",
      "Unexpected parameter: screen_name\n",
      "Unexpected parameter: screen_name\n",
      "Unexpected parameter: screen_name\n",
      "Unexpected parameter: screen_name\n",
      "Unexpected parameter: screen_name\n",
      "Unexpected parameter: screen_name\n",
      "Unexpected parameter: screen_name\n",
      "Unexpected parameter: screen_name\n",
      "Unexpected parameter: screen_name\n",
      "Unexpected parameter: screen_name\n",
      "Unexpected parameter: screen_name\n",
      "Unexpected parameter: screen_name\n",
      "Unexpected parameter: screen_name\n",
      "Unexpected parameter: screen_name\n",
      "Unexpected parameter: screen_name\n",
      "Unexpected parameter: screen_name\n",
      "Unexpected parameter: screen_name\n",
      "Unexpected parameter: screen_name\n",
      "Unexpected parameter: screen_name\n",
      "Unexpected parameter: screen_name\n",
      "Unexpected parameter: screen_name\n",
      "Unexpected parameter: screen_name\n",
      "Unexpected parameter: screen_name\n",
      "Unexpected parameter: screen_name\n",
      "Unexpected parameter: screen_name\n",
      "Unexpected parameter: screen_name\n",
      "Unexpected parameter: screen_name\n",
      "Unexpected parameter: screen_name\n",
      "Unexpected parameter: screen_name\n",
      "Unexpected parameter: screen_name\n",
      "Unexpected parameter: screen_name\n",
      "Unexpected parameter: screen_name\n",
      "Unexpected parameter: screen_name\n",
      "Unexpected parameter: screen_name\n",
      "Unexpected parameter: screen_name\n",
      "Unexpected parameter: screen_name\n",
      "Unexpected parameter: screen_name\n",
      "Unexpected parameter: screen_name\n",
      "Unexpected parameter: screen_name\n",
      "Unexpected parameter: screen_name\n",
      "Unexpected parameter: screen_name\n",
      "Unexpected parameter: screen_name\n",
      "Unexpected parameter: screen_name\n",
      "Unexpected parameter: screen_name\n",
      "Unexpected parameter: screen_name\n",
      "Unexpected parameter: screen_name\n",
      "Unexpected parameter: screen_name\n",
      "Unexpected parameter: screen_name\n",
      "Unexpected parameter: screen_name\n",
      "Unexpected parameter: screen_name\n",
      "Unexpected parameter: screen_name\n",
      "Unexpected parameter: screen_name\n",
      "Unexpected parameter: screen_name\n",
      "Unexpected parameter: screen_name\n"
     ]
    },
    {
     "name": "stdout",
     "output_type": "stream",
     "text": [
      "['@pauloap #TopGun\\n#TopGunMaverick\\nBUY HOLD MY HAND ON ITUNES 🎶🤝🏻✈️❤️\\u200d🔥', 'Just watched #TopGun with the kids, ready for #TopGunMaverick.\\nNever really appreciated the complete lack chemistry between McGillis &amp; Cruise, but still love it. Can’t wait to see the new one. \\nSoundtrack is pure Eighties👌- I trust K. Loggins makes the sequel?\\n#PassMeTheAviators', '@bernardokuster2 #TopGun\\n#TopGunMaverick\\nBUY HOLD MY HAND ON ITUNES 🎶🤝🏻✈️❤️\\u200d🔥', '@TomCruise Wow, #TopGun 2 was an amazing movie! I immediately wanted to see the movie again once it had ended. In my dreams I am flying in the canyon with you, going upside down, breaking over the rim, ... After a long work day in court you made my day. Please make a Top Gun 3 @TomCruise!!', '@Rconstantino #TopGun\\n#TopGunMaverick\\nBUY HOLD MY HAND ON ITUNES 🎶🤝🏻✈️❤️\\u200d🔥']\n"
     ]
    }
   ],
   "source": [
    "query = '#topgun -filter:retweets'\n",
    "# we obtain a maximum of 1000 tweets\n",
    "max_tweets = 1000\n",
    "\n",
    "# we store the tweepy.Cursor response of each tweet in a list\n",
    "search_tweets = [tweet for tweet in tweepy.Cursor(api.search_tweets,\n",
    "                                                  q=query,\n",
    "                                                  lang='en',\n",
    "                                                  screen_name=True,\n",
    "                                                  tweet_mode='extended').items(max_tweets)]\n",
    "\n",
    "# we store the text of each tweet in a list\n",
    "tweets_text = [tweet.full_text for tweet in search_tweets]\n",
    "print(tweets_text[:5])\n"
   ]
  },
  {
   "cell_type": "code",
   "execution_count": 62,
   "metadata": {},
   "outputs": [],
   "source": [
    "def clean_tweet(tweet):\n",
    "    '''\n",
    "    Function to clean a tweet text by removing the links, punctuations, hashtags, and mentions symbols\n",
    "    using regex expressions.\n",
    "    Parameters:\n",
    "       tweet (string): Tweet text to transform.\n",
    "    Returns:\n",
    "       tweet_cleaned (string): Tweet without links, punctuations, hashtags, and mentions symbols. \n",
    "    \"\"\"\n",
    "    '''\n",
    "    # convert the tweet text to lowercase letters\n",
    "    tweet_lower = tweet.lower()\n",
    "    # remove links, punctuations, hashtags, and mentions\n",
    "    tweet_cleaned = re.sub(u\"(http\\S+)|([“”!?])|([#@])\", \"\", tweet_lower)\n",
    "    \n",
    "    return tweet_cleaned"
   ]
  },
  {
   "cell_type": "code",
   "execution_count": 63,
   "metadata": {},
   "outputs": [
    {
     "name": "stdout",
     "output_type": "stream",
     "text": [
      "['no copiercollin i’m not going to wear a flight suit to the movie theater tonight when i go see topgun.', 'haven’t eaten a tub of corn ina lil bit, \\nguess it’s topgun time', 'tomcruise whoever says you are looking old they are just crazy. you just blew us all away once again. felt the the topgun has completed a full circle ♥️ topgun topgunmaverick tomcruise maverick', 'man are crying while watching topgun movie, and women make fun of them.\\nwhy and why', 'if you are a fan of top gun at all or even enjoyed it you must see the new one it is totally worth seeing in the theater it is awesome topgunmaverick topgun tomcruise bestmovie']\n"
     ]
    }
   ],
   "source": [
    "tweets_text_cleaned = [clean_tweet(tweet) for tweet in tweets_text]\n",
    "# we visualize the first 10 tweets\n",
    "print(tweets_text_cleaned[:5])"
   ]
  },
  {
   "cell_type": "code",
   "execution_count": 64,
   "metadata": {},
   "outputs": [
    {
     "data": {
      "text/plain": [
       "1000"
      ]
     },
     "execution_count": 64,
     "metadata": {},
     "output_type": "execute_result"
    }
   ],
   "source": [
    "len(tweets_text_cleaned)"
   ]
  },
  {
   "cell_type": "code",
   "execution_count": 65,
   "metadata": {},
   "outputs": [],
   "source": [
    "df = pd.DataFrame (tweets_text_cleaned, columns = ['Tweets'])"
   ]
  },
  {
   "cell_type": "code",
   "execution_count": 85,
   "metadata": {},
   "outputs": [
    {
     "data": {
      "text/html": [
       "<div>\n",
       "<style scoped>\n",
       "    .dataframe tbody tr th:only-of-type {\n",
       "        vertical-align: middle;\n",
       "    }\n",
       "\n",
       "    .dataframe tbody tr th {\n",
       "        vertical-align: top;\n",
       "    }\n",
       "\n",
       "    .dataframe thead th {\n",
       "        text-align: right;\n",
       "    }\n",
       "</style>\n",
       "<table border=\"1\" class=\"dataframe\">\n",
       "  <thead>\n",
       "    <tr style=\"text-align: right;\">\n",
       "      <th></th>\n",
       "      <th>Tweets</th>\n",
       "    </tr>\n",
       "  </thead>\n",
       "  <tbody>\n",
       "    <tr>\n",
       "      <th>0</th>\n",
       "      <td>no copiercollin i’m not going to wear a flight...</td>\n",
       "    </tr>\n",
       "    <tr>\n",
       "      <th>1</th>\n",
       "      <td>haven’t eaten a tub of corn ina lil bit, \\ngue...</td>\n",
       "    </tr>\n",
       "    <tr>\n",
       "      <th>2</th>\n",
       "      <td>tomcruise whoever says you are looking old the...</td>\n",
       "    </tr>\n",
       "    <tr>\n",
       "      <th>3</th>\n",
       "      <td>man are crying while watching topgun movie, an...</td>\n",
       "    </tr>\n",
       "    <tr>\n",
       "      <th>4</th>\n",
       "      <td>if you are a fan of top gun at all or even enj...</td>\n",
       "    </tr>\n",
       "    <tr>\n",
       "      <th>...</th>\n",
       "      <td>...</td>\n",
       "    </tr>\n",
       "    <tr>\n",
       "      <th>995</th>\n",
       "      <td>for our third time seeing top gun maverick we ...</td>\n",
       "    </tr>\n",
       "    <tr>\n",
       "      <th>996</th>\n",
       "      <td>holdmyhand is the 1 song of the week in many c...</td>\n",
       "    </tr>\n",
       "    <tr>\n",
       "      <th>997</th>\n",
       "      <td>much better than i expected. \\nthey made a hec...</td>\n",
       "    </tr>\n",
       "    <tr>\n",
       "      <th>998</th>\n",
       "      <td>if you don't see rr you will die - an amrican ...</td>\n",
       "    </tr>\n",
       "    <tr>\n",
       "      <th>999</th>\n",
       "      <td>topgun was good</td>\n",
       "    </tr>\n",
       "  </tbody>\n",
       "</table>\n",
       "<p>1000 rows × 1 columns</p>\n",
       "</div>"
      ],
      "text/plain": [
       "                                                Tweets\n",
       "0    no copiercollin i’m not going to wear a flight...\n",
       "1    haven’t eaten a tub of corn ina lil bit, \\ngue...\n",
       "2    tomcruise whoever says you are looking old the...\n",
       "3    man are crying while watching topgun movie, an...\n",
       "4    if you are a fan of top gun at all or even enj...\n",
       "..                                                 ...\n",
       "995  for our third time seeing top gun maverick we ...\n",
       "996  holdmyhand is the 1 song of the week in many c...\n",
       "997  much better than i expected. \\nthey made a hec...\n",
       "998  if you don't see rr you will die - an amrican ...\n",
       "999                                   topgun was good \n",
       "\n",
       "[1000 rows x 1 columns]"
      ]
     },
     "execution_count": 85,
     "metadata": {},
     "output_type": "execute_result"
    }
   ],
   "source": [
    "df"
   ]
  },
  {
   "cell_type": "code",
   "execution_count": 69,
   "metadata": {},
   "outputs": [],
   "source": [
    "tg_tweets = df['Tweets'].str.replace('http\\S+|www.\\S+', '', case=False)  # Removing URL's from data set\n",
    "tg_tweets = tg_tweets.str.replace(r'\\<.*\\>', '')  # Removing noise contained in '< >' these parenthesis\n",
    "tg_tweets = tg_tweets.str.replace('RT ', '', case=False)  # Removing the phrase 'RT\" from all strings\n",
    "tg_tweets = tg_tweets.str.replace('@[^\\s]+', '', case=False)  # Removing '@' and the following twitter handle from strings\n",
    "tg_tweets = tg_tweets.str.replace('[^\\w\\s]', ' ')  # Removing any punctuation\n",
    "tg_tweets = tg_tweets.str.replace('\\r\\n', ' ')  # Removing '\\r\\n' which is present in some strings\n",
    "tg_tweets = tg_tweets.str.replace('\\d+', '').str.lower().str.strip()  # Removing numbers, capitalisation and white space"
   ]
  },
  {
   "cell_type": "code",
   "execution_count": 71,
   "metadata": {},
   "outputs": [
    {
     "data": {
      "text/plain": [
       "0    no copiercollin i m not going to wear a flight...\n",
       "1    haven t eaten a tub of corn ina lil bit  \\ngue...\n",
       "2    tomcruise whoever says you are looking old the...\n",
       "3    man are crying while watching topgun movie  an...\n",
       "4    if you are a fan of top gun at all or even enj...\n",
       "Name: Tweets, dtype: object"
      ]
     },
     "execution_count": 71,
     "metadata": {},
     "output_type": "execute_result"
    }
   ],
   "source": [
    "tg_tweets.head()"
   ]
  },
  {
   "cell_type": "code",
   "execution_count": 72,
   "metadata": {},
   "outputs": [],
   "source": [
    "tg_tweets.to_csv('top_gun_tweets.csv')"
   ]
  },
  {
   "cell_type": "code",
   "execution_count": 75,
   "metadata": {},
   "outputs": [],
   "source": [
    "tg_tweets.to_csv('/Users/matthewgittings/Flatiron/Final_Project/top_gun_tweets.csv')"
   ]
  }
 ],
 "metadata": {
  "kernelspec": {
   "display_name": "Python 3",
   "language": "python",
   "name": "python3"
  },
  "language_info": {
   "codemirror_mode": {
    "name": "ipython",
    "version": 3
   },
   "file_extension": ".py",
   "mimetype": "text/x-python",
   "name": "python",
   "nbconvert_exporter": "python",
   "pygments_lexer": "ipython3",
   "version": "3.8.5"
  }
 },
 "nbformat": 4,
 "nbformat_minor": 4
}
